{
 "cells": [
  {
   "cell_type": "markdown",
   "id": "97dbfb60",
   "metadata": {},
   "source": [
    "# Taiwan Hospital Efficiency Analysis (2016‑2018)\n",
    "\n",
    "Generated: 2025-04-26 04:21:21\n",
    "\n",
    "本 Notebook 整合了資料載入、清理、描述統計、相關性分析、迴歸模型、叢集分析與視覺化結果，以支援醫院降本增效及政府資源配置決策。"
   ]
  },
  {
   "cell_type": "code",
   "execution_count": null,
   "id": "f536b3ac",
   "metadata": {},
   "outputs": [],
   "source": [
    "\n",
    "import pandas as pd\n",
    "import numpy as np\n",
    "import matplotlib.pyplot as plt\n",
    "import seaborn as sns\n",
    "import statsmodels.api as sm\n",
    "from sklearn.preprocessing import StandardScaler\n",
    "from sklearn.cluster import KMeans\n",
    "from scipy.stats import ttest_ind\n",
    "\n",
    "# Display settings\n",
    "pd.set_option('display.max_columns', None)\n",
    "sns.set_theme(style=\"whitegrid\")\n"
   ]
  },
  {
   "cell_type": "code",
   "execution_count": null,
   "id": "c42641f9",
   "metadata": {},
   "outputs": [],
   "source": [
    "\n",
    "# Adjust path if notebook moved elsewhere\n",
    "data_dir = '/mnt/data'\n",
    "files = {\n",
    "    '2016': 'df_2016_cleaningdata.xlsx',\n",
    "    '2017': 'df_2017_cleaningdata.xlsx',\n",
    "    '2018': 'df_2018_cleaningdata.xlsx',\n",
    "}\n",
    "\n",
    "df16 = pd.read_excel(f'{data_dir}/{files[\"2016\"]}', sheet_name='處理後(英文)')\n",
    "df17 = pd.read_excel(f'{data_dir}/{files[\"2017\"]}', sheet_name='處理後(英文)')\n",
    "df18 = pd.read_excel(f'{data_dir}/{files[\"2018\"]}', sheet_name='清完版本')\n",
    "\n",
    "def standardize(df):\n",
    "    rename_map = {\n",
    "        'Year': 'year',\n",
    "        'Institution Code': 'institution_code',\n",
    "        'Institution Name': 'institution_name',\n",
    "        'Year ': 'year'\n",
    "    }\n",
    "    return df.rename(columns=rename_map)\n",
    "\n",
    "full = pd.concat([standardize(df16), standardize(df17), standardize(df18)], ignore_index=True)\n",
    "\n",
    "numeric_cols = ['medical_operating_margin','avg_nurse_to_patient_ratio','case_cnt_per_physician',\n",
    "                'claim_points_per_outpatient_visit','claim_points_per_inpatient_admission',\n",
    "                'outpatient_visit_ratio','inpatient_admissions_per_bed']\n",
    "for col in numeric_cols:\n",
    "    full[col] = pd.to_numeric(full[col], errors='coerce')\n",
    "\n",
    "print('Data shape:', full.shape)\n",
    "full.head()\n"
   ]
  },
  {
   "cell_type": "markdown",
   "id": "b8ef5828",
   "metadata": {},
   "source": [
    "## Descriptive Statistics"
   ]
  },
  {
   "cell_type": "code",
   "execution_count": null,
   "id": "b6bf4332",
   "metadata": {},
   "outputs": [],
   "source": [
    "\n",
    "full.groupby('year')['medical_operating_margin'].describe()\n"
   ]
  },
  {
   "cell_type": "markdown",
   "id": "e33f3693",
   "metadata": {},
   "source": [
    "## Correlation Analysis"
   ]
  },
  {
   "cell_type": "code",
   "execution_count": null,
   "id": "5cbcf2a2",
   "metadata": {},
   "outputs": [],
   "source": [
    "\n",
    "corr = full[numeric_cols].corr()\n",
    "plt.figure(figsize=(8,6))\n",
    "sns.heatmap(corr, annot=True, cmap='coolwarm', fmt='.2f')\n",
    "plt.title('Correlation Matrix')\n",
    "plt.show()\n",
    "\n",
    "corr['medical_operating_margin'].sort_values(ascending=False)\n"
   ]
  },
  {
   "cell_type": "markdown",
   "id": "d578a8ea",
   "metadata": {},
   "source": [
    "## Multiple Linear Regression\n",
    "Dependent variable: **medical_operating_margin**"
   ]
  },
  {
   "cell_type": "code",
   "execution_count": null,
   "id": "a54b2d9a",
   "metadata": {},
   "outputs": [],
   "source": [
    "\n",
    "X = full[['case_cnt_per_physician','avg_nurse_to_patient_ratio',\n",
    "          'claim_points_per_outpatient_visit','claim_points_per_inpatient_admission',\n",
    "          'outpatient_visit_ratio','inpatient_admissions_per_bed']]\n",
    "X = sm.add_constant(X)\n",
    "y = full['medical_operating_margin']\n",
    "model = sm.OLS(y, X, missing='drop').fit()\n",
    "print(model.summary())\n"
   ]
  },
  {
   "cell_type": "markdown",
   "id": "a5f02c27",
   "metadata": {},
   "source": [
    "## K‑Means Clustering"
   ]
  },
  {
   "cell_type": "code",
   "execution_count": null,
   "id": "1f168280",
   "metadata": {},
   "outputs": [],
   "source": [
    "\n",
    "features = ['medical_operating_margin','case_cnt_per_physician',\n",
    "            'avg_nurse_to_patient_ratio','inpatient_admissions_per_bed']\n",
    "df_cluster = full[features].dropna()\n",
    "scaler = StandardScaler()\n",
    "scaled = scaler.fit_transform(df_cluster)\n",
    "kmeans = KMeans(n_clusters=3, random_state=0, n_init=10).fit(scaled)\n",
    "df_cluster['cluster'] = kmeans.labels_\n",
    "display(df_cluster['cluster'].value_counts())\n",
    "\n",
    "centers = scaler.inverse_transform(kmeans.cluster_centers_)\n",
    "centers_df = pd.DataFrame(centers, columns=features)\n",
    "centers_df.index = ['Cluster 0','Cluster 1','Cluster 2']\n",
    "centers_df\n"
   ]
  },
  {
   "cell_type": "markdown",
   "id": "091740cd",
   "metadata": {},
   "source": [
    "## Regional & Hospital Type Differences"
   ]
  },
  {
   "cell_type": "code",
   "execution_count": null,
   "id": "50a8d3a6",
   "metadata": {},
   "outputs": [],
   "source": [
    "\n",
    "region_cols = ['is_northern_region','is_central_region','is_southern_region',\n",
    "               'is_kaoping_region','is_eastern_region']\n",
    "region_margin = {col: full[full[col]==1]['medical_operating_margin'].mean()\n",
    "                 for col in region_cols}\n",
    "pd.Series(region_margin).sort_values(ascending=False)\n"
   ]
  },
  {
   "cell_type": "markdown",
   "id": "e800bb9d",
   "metadata": {},
   "source": [
    "### Public vs Private Hospitals"
   ]
  },
  {
   "cell_type": "code",
   "execution_count": null,
   "id": "7771daee",
   "metadata": {},
   "outputs": [],
   "source": [
    "\n",
    "margin_pub = full[full['is_private']==0]['medical_operating_margin'].dropna()\n",
    "margin_priv = full[full['is_private']==1]['medical_operating_margin'].dropna()\n",
    "stat, p = ttest_ind(margin_pub, margin_priv)\n",
    "print(f'T‑stat={stat:.3f}, p={p:.3f}')\n"
   ]
  }
 ],
 "metadata": {},
 "nbformat": 4,
 "nbformat_minor": 5
}
